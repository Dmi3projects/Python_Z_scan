{
 "cells": [
  {
   "cell_type": "code",
   "execution_count": 5,
   "metadata": {
    "scrolled": true
   },
   "outputs": [],
   "source": [
    "#The goal is to sum all the counts of the detector over the all steps and plot them against the power.\n",
    "#The dependence in case of different attenuation mechanisms is linear and quadratic.\n",
    "\n",
    "import numpy as np\n",
    "import matplotlib\n",
    "from matplotlib import pyplot as plt\n",
    "import statistics\n",
    "import math  \n",
    "import os, sys\n",
    "import pandas as pd\n",
    "\n",
    "#s={}\n",
    "#l={}\n",
    "stds={}\n",
    "stdl={}\n",
    "stdd={}\n",
    "stdd_sum={}\n",
    "stdl_sum={}\n",
    "stds_sum={}\n",
    "\n",
    "\n",
    "\n",
    "##calculate the sum over step in Z-scan for dark values\n",
    "\n",
    "#function for mean calculation - input is path to the file with data, \n",
    "#start,stop and step of the trasnslation stage, number of measurements\n",
    "\n",
    "def Z_scan_sum (path, start, stop, scan_step, measurements):\n",
    "    \n",
    "    step=[]\n",
    "    outputpd={}\n",
    "    raw=[]\n",
    "    d={}\n",
    "    std={}\n",
    "    std_sum={}\n",
    "    \n",
    "    step=np.arange(start, stop, scan_step).tolist() #generate a list of translation stage positions, use arange arguments to vary\n",
    "#loop through all files in path and upload them one after other to raw list\n",
    "    for filename in os.listdir(path):\n",
    "        raw=np.loadtxt(path + '\\\\' + filename, skiprows=6).tolist()\n",
    "#Dictionary initialization    \n",
    "        d[filename]={}\n",
    "        std[filename]={}\n",
    "#Remove the stage position from and create a nested dictionary {filename:{stage position i:counts value}}\n",
    "        for i in step:\n",
    "            raw.remove (round(i,3))\n",
    "            d[filename] [round(i,3)]= sum (raw[:measurements])\n",
    "            std[filename] [round(i,3)]= np.std(raw[:measurements])\n",
    "            del raw[:measurements]\n",
    "        \n",
    "#calculate the standard deviation    \n",
    "    for filename in os.listdir(path):\n",
    "        std_sum[filename]=0\n",
    "        for i in step: \n",
    "            std_sum[filename] = math.sqrt((std[filename] [round(i,3)])**2 + (std_sum[filename])**2)    \n",
    "    outputpd = pd.DataFrame(data=d)\n",
    "    return outputpd, std_sum\n",
    "\n",
    "measurements=100 #specifies how many measurements done per step\n",
    "\n",
    "#calculate the sum over step in Z-scan  and stdev for dark values\n",
    "path=r\"C:\\Users\\sweet\\Dropbox\\Work\\Python_script\\Processing\\LvsQRh6G\\Dark\" # Empty/dark files path\n",
    "dark, stdd_sum = Z_scan_sum(path, 7.6, 7.799, 0.001, measurements)\n",
    "\n",
    "#calculate the sum over step in Z-scan and stdev for for linear-attenuated values\n",
    "path=r\"C:\\Users\\sweet\\Dropbox\\Work\\Python_script\\Processing\\LvsQRh6G\\Linear\"\n",
    "lin, stdl_sum = Z_scan_sum(path, 7.6, 7.799, 0.001, measurements)\n",
    "for filename in os.listdir(path):\n",
    "    stdl_sum[filename] = math.sqrt((stdl_sum[filename])  + (list(stdd_sum.values())[0])**2)\n",
    "    #print (stdl_sum[filename]/1000)\n",
    "    \n",
    "#calculate the sum over step in Z-scan for square-attenuated values\n",
    "path=#set the path to your data here\n",
    "sq, stds_sum = Z_scan_sum(path, 7.6, 7.799, 0.001, measurements)\n",
    "for filename in os.listdir(path):\n",
    "    stds_sum[filename] = math.sqrt((stds_sum[filename])  + (list(stdd_sum.values())[0])**2)\n",
    "    #print (stds_sum[filename]/10000)\n",
    "\n",
    "\n",
    "#calculate the total standard deviation for square-attenuated values after dark subtraction\n",
    "stds = pd.DataFrame (data=stds)\n",
    "stdl = pd.DataFrame (data=stdl)\n",
    "stdark=pd.DataFrame (data=stdd)\n",
    "\n",
    "#preparation of nparray for linear fit and R-square\n",
    "linear_data = (lin.sum(axis=0).to_numpy()-dark.sum(axis=0).to_numpy())/10000\n",
    "linear_data = np.append (0, linear_data)\n",
    "row = np.array([0, 41, 78, 112, 139, 163]) #the values of SPDC power \n",
    "linear_data = np.vstack([row,linear_data])\n",
    "\n",
    "#preparation of nparray for square fita and RMSE\n",
    "square_data=(sq.sum(axis=0).to_numpy()-dark.sum(axis=0).to_numpy())/10000\n",
    "stds_sum = pd.DataFrame (data=stds_sum, index=[0]).to_numpy()/square_data/10000\n",
    "square_data = np.append (0, square_data)\n",
    "square_data=np.sort(square_data)\n",
    "rows = np.array([0, 31, 56, 77, 103, 163]) #SPDC power values\n",
    "square_data = np.vstack([rows,square_data])"
   ]
  },
  {
   "cell_type": "code",
   "execution_count": 6,
   "metadata": {},
   "outputs": [
    {
     "data": {
      "image/png": "[encoded data removed]",
      "text/plain": [
       "<Figure size 432x288 with 1 Axes>"
      ]
     },
     "metadata": {
      "needs_background": "light"
     },
     "output_type": "display_data"
    },
    {
     "name": "stderr",
     "output_type": "stream",
     "text": [
      "C:\\Users\\sweet\\AppData\\Local\\Temp/ipykernel_11408/3958060020.py:37: FutureWarning: Using a non-tuple sequence for multidimensional indexing is deprecated; use `arr[tuple(seq)]` instead of `arr[seq]`. In the future this will be interpreted as an array index, `arr[np.array(seq)]`, which will result either in an error or a different result.\n",
      "  zl = y_line [[zl1]]\n"
     ]
    },
    {
     "name": "stdout",
     "output_type": "stream",
     "text": [
      "R-squared: 0.997707\n"
     ]
    }
   ],
   "source": [
    "# fit a straight line to linear power attenuation data\n",
    "from numpy import arange\n",
    "from pandas import read_csv\n",
    "from scipy.optimize import curve_fit\n",
    "from matplotlib import pyplot\n",
    "from sklearn.metrics import r2_score\n",
    "from scipy import stats\n",
    "\n",
    "# define the true objective function\n",
    "def line(x, a):\n",
    "    return a * x\n",
    " \n",
    "# load the dataset\n",
    "# choose the input and output variables\n",
    "xl, yl = linear_data\n",
    "# curve fit\n",
    "popt, _ = curve_fit(line, xl, yl)\n",
    "# summarize the ameter values\n",
    "a = popt\n",
    "# plot input vs output\n",
    "plt.scatter(xl, yl, color = 'red')\n",
    "# define a sequence of inputs between the smallest and largest known inputs\n",
    "x_line = arange(min(xl), max(xl), 1)\n",
    "# calculate the output for the range\n",
    "y_line = line(x_line, a)\n",
    "# create a line plot for the mapping function\n",
    "plt.plot(x_line, y_line, '--', color='red')\n",
    "plt.show()\n",
    "\n",
    "#calculate r^2 for this line\n",
    "zl1 = (0, 1, 2, 3, 4, 5)\n",
    "zl = y_line [[zl1]]\n",
    "res = stats.linregress(zl, yl)\n",
    "print(f\"R-squared: {res.rvalue**2:.6f}\")"
   ]
  },
  {
   "cell_type": "code",
   "execution_count": 7,
   "metadata": {},
   "outputs": [
    {
     "data": {
      "image/png": "[encoded data removed]",
      "text/plain": [
       "<Figure size 432x288 with 1 Axes>"
      ]
     },
     "metadata": {
      "needs_background": "light"
     },
     "output_type": "display_data"
    },
    {
     "name": "stdout",
     "output_type": "stream",
     "text": [
      "0.12067200303025583\n"
     ]
    },
    {
     "name": "stderr",
     "output_type": "stream",
     "text": [
      "C:\\Users\\sweet\\AppData\\Local\\Temp/ipykernel_11408/1047271220.py:32: FutureWarning: Using a non-tuple sequence for multidimensional indexing is deprecated; use `arr[tuple(seq)]` instead of `arr[seq]`. In the future this will be interpreted as an array index, `arr[np.array(seq)]`, which will result either in an error or a different result.\n",
      "  zs = y_square [[zs1]]\n"
     ]
    }
   ],
   "source": [
    "# fit a qudratic function to SPDC attenuation data\n",
    "\n",
    "from numpy import arange\n",
    "from pandas import read_csv\n",
    "from scipy.optimize import curve_fit\n",
    "from matplotlib import pyplot\n",
    "from scipy.stats import chisquare\n",
    "\n",
    "# define the true objective function\n",
    "def square(x,b):\n",
    "    return b * x**2\n",
    " \n",
    "# load the dataset\n",
    "xs, ys = square_data\n",
    "# curve fit\n",
    "popt, _ = curve_fit(square, xs, ys)\n",
    "# summarize the parameter values\n",
    "b = popt\n",
    "#print('y = %.5f * x + %.5f * x^2 + %.5f' % (a, b, c))\n",
    "# plot input vs output\n",
    "plt.scatter(xs, ys, marker = 's', color = 'blue')\n",
    "# define a sequence of inputs between the smallest and largest known inputs\n",
    "x_square = arange(min(xs), max(xs), 1)\n",
    "# calculate the output for the range\n",
    "y_square = square(x_square, b)\n",
    "# create a line plot for the mapping function\n",
    "plt.plot(x_square, y_square, '--', color='blue')\n",
    "plt.show()\n",
    "\n",
    "zs1 = (0, 44, 55, 81, 99, 162)\n",
    "zs = y_square [[zs1]]\n",
    "\n",
    "MSE = np.square(np.subtract(zs,ys)).mean() \n",
    " \n",
    "RMSE = math.sqrt(MSE)\n",
    "print (RMSE)\n"
   ]
  },
  {
   "cell_type": "code",
   "execution_count": 21,
   "metadata": {},
   "outputs": [
    {
     "name": "stdout",
     "output_type": "stream",
     "text": [
      "[0.         0.02766469 0.05263038 0.07557182 0.09379003 0.10998399]\n"
     ]
    },
    {
     "data": {
      "image/png": "[encoded data removed]",
      "text/plain": [
       "<Figure size 432x288 with 2 Axes>"
      ]
     },
     "metadata": {
      "needs_background": "light"
     },
     "output_type": "display_data"
    }
   ],
   "source": [
    "fig1 = plt.figure()\n",
    "ax1 = fig1.add_subplot(111)\n",
    "\n",
    "\n",
    "plt.scatter(xl, yl, s=50,  color = 'red', label = 'Pump attenuation')\n",
    "plt.errorbar(xl, yl, yerr=max(yl)*0.06, fmt=\",\", linewidth = 1, color='black',capsize = 2, capthick = 1)\n",
    "plt.plot(x_line, y_line, '--', color='red', linewidth = 2, label = 'Linear fit')\n",
    "\n",
    "plt.scatter(xs, ys, s=50, marker = 's', color = 'blue', label = 'Pair attenuation')\n",
    "plt.errorbar(xs, ys, yerr=max(ys)*0.06, fmt=\",\", linewidth = 1, color='black',capsize = 2, capthick = 1)\n",
    "plt.plot(x_square, y_square, '-.', color='blue', linewidth = 2, label = 'Quadratic fit')\n",
    "\n",
    "plt.xlabel(\"SPDC power, nW\") \n",
    "plt.ylabel(\"Accumulated detected counts, 10\\u2074\")\n",
    "\n",
    "ax2 = ax1.twiny()\n",
    "\n",
    "new_tick_locations = xl\n",
    "\n",
    "def tick_function(X):\n",
    "    V = 1.064e-6*xl/(6.62e-34)/3e8*1e-9/(7.94e12) #converts the values of x-axis into photons/temporal mode\n",
    "    print (V)\n",
    "    return [\"%.2f\" % z for z in V]\n",
    "\n",
    "ax2.set_xlim(ax1.get_xlim())\n",
    "ax2.set_xticks(new_tick_locations)\n",
    "ax2.set_xticklabels(tick_function(new_tick_locations))\n",
    "ax2.set_xlabel(r\"Photons per temporal mode\")\n",
    "pyplot.show()"
   ]
  },
  {
   "cell_type": "markdown",
   "metadata": {},
   "source": [
    "#### "
   ]
  },
  {
   "cell_type": "code",
   "execution_count": null,
   "metadata": {},
   "outputs": [],
   "source": []
  }
 ],
 "metadata": {
  "kernelspec": {
   "display_name": "Python 3 (ipykernel)",
   "language": "python",
   "name": "python3"
  },
  "language_info": {
   "codemirror_mode": {
    "name": "ipython",
    "version": 3
   },
   "file_extension": ".py",
   "mimetype": "text/x-python",
   "name": "python",
   "nbconvert_exporter": "python",
   "pygments_lexer": "ipython3",
   "version": "3.9.7"
  }
 },
 "nbformat": 4,
 "nbformat_minor": 4
}
